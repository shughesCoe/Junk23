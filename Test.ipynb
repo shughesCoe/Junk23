{
 "cells": [
  {
   "cell_type": "code",
   "execution_count": 1,
   "id": "0213422d-2215-4c3f-bf8c-2a61effe0372",
   "metadata": {},
   "outputs": [],
   "source": [
    "def test(num):\n",
    "    for i in range(num):\n",
    "        print(i)\n"
   ]
  },
  {
   "cell_type": "code",
   "execution_count": 2,
   "id": "c6e3684f-b67b-433f-8e81-d55009f2fcc0",
   "metadata": {},
   "outputs": [
    {
     "name": "stdout",
     "output_type": "stream",
     "text": [
      "0\n",
      "1\n",
      "2\n",
      "3\n",
      "4\n",
      "5\n",
      "6\n",
      "7\n",
      "8\n",
      "9\n"
     ]
    }
   ],
   "source": [
    "test(10)"
   ]
  },
  {
   "cell_type": "markdown",
   "id": "54a76302-ea99-4118-9762-9db847a5bdd2",
   "metadata": {},
   "source": [
    "This is just some text\n",
    "* with Bullets\n"
   ]
  },
  {
   "cell_type": "code",
   "execution_count": 8,
   "id": "a3d9a232-0314-474d-9ce0-81ee7ca62bb2",
   "metadata": {},
   "outputs": [],
   "source": [
    "outfile = open(\"Junk.txt\", \"w\")\n",
    "for i in range(4):\n",
    "    print(\"Junk\", file = outfile)\n",
    "outfile.close()"
   ]
  },
  {
   "cell_type": "code",
   "execution_count": 9,
   "id": "116f144d-1636-4e29-b4cf-08e2e606a244",
   "metadata": {},
   "outputs": [
    {
     "name": "stdout",
     "output_type": "stream",
     "text": [
      "Junk\n",
      "Junk\n",
      "Junk\n",
      "Junk\n"
     ]
    }
   ],
   "source": [
    "inFile = open(\"Junk.txt\")\n",
    "for line in inFile:\n",
    "    line = line.strip()\n",
    "    print(line)\n",
    "inFile.close()"
   ]
  },
  {
   "cell_type": "code",
   "execution_count": null,
   "id": "fed7cab9-45ec-45ba-9dbf-2c3be2210b74",
   "metadata": {},
   "outputs": [],
   "source": []
  }
 ],
 "metadata": {
  "kernelspec": {
   "display_name": "Python 3 (ipykernel)",
   "language": "python",
   "name": "python3"
  },
  "language_info": {
   "codemirror_mode": {
    "name": "ipython",
    "version": 3
   },
   "file_extension": ".py",
   "mimetype": "text/x-python",
   "name": "python",
   "nbconvert_exporter": "python",
   "pygments_lexer": "ipython3",
   "version": "3.10.10"
  }
 },
 "nbformat": 4,
 "nbformat_minor": 5
}
